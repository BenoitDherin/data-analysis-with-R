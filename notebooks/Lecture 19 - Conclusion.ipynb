{
 "metadata": {
  "name": ""
 },
 "nbformat": 3,
 "nbformat_minor": 0,
 "worksheets": [
  {
   "cells": [
    {
     "cell_type": "heading",
     "level": 1,
     "metadata": {
      "slideshow": {
       "slide_type": "slide"
      }
     },
     "source": [
      "Conclusion - What to do next?"
     ]
    },
    {
     "cell_type": "markdown",
     "metadata": {},
     "source": [
      "After having taken this class, you can add to your CV:\n",
      "\n",
      "* Unix basics: shell programming in bash; sed, grep, and regular expressions\n",
      "* Python basics for data science: iPyhon, Numpy, and Pandas\n",
      "* R basics for data analysis\n",
      "\n",
      "Here are a few things you may want to add to your toolbox:"
     ]
    },
    {
     "cell_type": "heading",
     "level": 1,
     "metadata": {},
     "source": [
      "Cloud computing in the notebook with AWS"
     ]
    },
    {
     "cell_type": "markdown",
     "metadata": {},
     "source": [
      "The challenge these days in data anaylis is\n",
      "\n",
      "* The **size of the data** available and the necessity of storing it somewhere\n",
      "* The **amount of computing power** required for the analysis\n",
      "\n",
      "Nowdays, anybody can sign up for a **cloud computing account** and use the storage and computing power of a large number of computing nodes to perform data analysis.\n",
      "\n",
      "One of the most popular is **[Amazon Web Service](http://aws.amazon.com/)**, which charges around $1 per computing hour!!!"
     ]
    },
    {
     "cell_type": "heading",
     "level": 3,
     "metadata": {},
     "source": [
      "MIT Star Cluster for the notebook"
     ]
    },
    {
     "cell_type": "markdown",
     "metadata": {},
     "source": [
      "The [MIT star cluster](http://star.mit.edu/cluster) wrote a Python module to facilite the integration of the notebook in the Amazon frame work. It can be downloaded from Canopy package installer (look up for \"starcluster\")."
     ]
    },
    {
     "cell_type": "markdown",
     "metadata": {},
     "source": [
      "Once the (quite involved) setup has been completed, type in \n",
      "\n",
      "    starcluster start mycluster\n",
      "on the command line. This will open bash shell on the remote computer at Amazon, in a similar way you connect to the SCF through ssh. Moreover, <code>startcluster</code> will starts an **ipython notebook** server to which you'll be able to connect by pasting the <code>url</code> given in the output of <code>startcluster</code> into your browser. \n",
      "\n",
      "The cluster tap will allow to run your cluster on AWS!\n",
      "\n"
     ]
    },
    {
     "cell_type": "code",
     "collapsed": false,
     "input": [
      "star = 'http://star.mit.edu/cluster/docs/latest/quickstart.html'\n",
      "from IPython.display import HTML; \n",
      "HTML('<iframe src=' + star + ' width=600 height=300></iframe>')"
     ],
     "language": "python",
     "metadata": {},
     "outputs": [
      {
       "html": [
        "<iframe src=http://star.mit.edu/cluster/docs/latest/quickstart.html width=600 height=300></iframe>"
       ],
       "metadata": {},
       "output_type": "pyout",
       "prompt_number": 1,
       "text": [
        "<IPython.core.display.HTML at 0x1080bded0>"
       ]
      }
     ],
     "prompt_number": 1
    },
    {
     "cell_type": "code",
     "collapsed": false,
     "input": [
      "notebook = 'http://star.mit.edu/cluster/docs/latest/plugins/ipython.html#using-the-ipython-html-notebook'\n",
      "from IPython.display import HTML; HTML('<iframe src=' + notebook + ' width=1000 height=300></iframe>')"
     ],
     "language": "python",
     "metadata": {},
     "outputs": [
      {
       "html": [
        "<iframe src=http://star.mit.edu/cluster/docs/latest/plugins/ipython.html#using-the-ipython-html-notebook width=1000 height=300></iframe>"
       ],
       "metadata": {},
       "output_type": "pyout",
       "prompt_number": 4,
       "text": [
        "<IPython.core.display.HTML at 0x1087217d0>"
       ]
      }
     ],
     "prompt_number": 4
    },
    {
     "cell_type": "heading",
     "level": 3,
     "metadata": {},
     "source": [
      "**Some more ressources on clouding computing from the notebook:**"
     ]
    },
    {
     "cell_type": "markdown",
     "metadata": {},
     "source": [
      "\n",
      "\n",
      "* [An interesting article](http://badhessian.org/2013/11/cluster-computing-for-027hr-using-amazon-ec2-and-ipython-notebook/)\n",
      "* [A quick overview](http://ipython.org/ipython-doc/rel-1.0.0/parallel/index.html)\n",
      "* [Parallel computing tutorial](http://nbviewer.ipython.org/github/profjsb/python-bootcamp/blob/master/Lectures/13_AdvancedIPython/IntroParallel.ipynb)\n",
      "* [Pycloud](http://www.picloud.com/)"
     ]
    },
    {
     "cell_type": "heading",
     "level": 2,
     "metadata": {},
     "source": [
      "Getting involved and being visible with <code>github</code>"
     ]
    },
    {
     "cell_type": "markdown",
     "metadata": {},
     "source": [
      "[Githup](https://github.com/) has become a standard to **collaborate online on programming project**. \n",
      "\n",
      "* set up an account for free\n",
      "* write a webpage for each of your project\n",
      "* store all the code remotely"
     ]
    },
    {
     "cell_type": "heading",
     "level": 4,
     "metadata": {},
     "source": [
      "Collaborating with github"
     ]
    },
    {
     "cell_type": "markdown",
     "metadata": {},
     "source": [
      "The great advantages are \n",
      "\n",
      "* different versions of your source code are automatically **controlled** with the popular **version contral system** con [git](http://git-scm.com/)\n",
      "\n",
      "* you can browse all the projects and choose to collaborate to the one you are interested (you can download the source code, modify it, and submit it to the project owner and see if your modifications are accepted.\n",
      "\n",
      "**THIS IS A GREAT PLATFORM TO BUILD A VISIBLE PORTFOLIO!**\n",
      "\n",
      "**Advice:** If you prouud of your class project, sign up at githup, and create a repository for it, and continue to upgrade it. **Githup is great for collaboration!**"
     ]
    },
    {
     "cell_type": "heading",
     "level": 3,
     "metadata": {},
     "source": [
      "Github tutorials"
     ]
    },
    {
     "cell_type": "markdown",
     "metadata": {},
     "source": [
      "* [Installing git](https://help.github.com/articles/set-up-git)\n",
      "* [Learning git](http://try.github.io/levels/1/challenges/1)\n",
      "* [GitHub for beginners](http://readwrite.com/2013/09/30/understanding-github-a-journey-for-beginners-part-1#awesm=~opcwThAxW67zV5)\n"
     ]
    },
    {
     "cell_type": "heading",
     "level": 3,
     "metadata": {},
     "source": [
      "Interesting githup projects"
     ]
    },
    {
     "cell_type": "markdown",
     "metadata": {},
     "source": [
      "* [iPython](https://github.com/ipython/ipython)\n",
      "* [Python for Data Science](http://profjsb.github.io/python-seminar/)"
     ]
    },
    {
     "cell_type": "heading",
     "level": 2,
     "metadata": {},
     "source": [
      "Meeting data scientists in the Bay Area"
     ]
    },
    {
     "cell_type": "markdown",
     "metadata": {},
     "source": [
      "* [Meetups](http://www.meetup.com/)\n",
      "* [linkedin Data Science Group](http://www.linkedin.com/groups/Data-Science-Central-4298680)\n",
      "* [Simons Institute](http://simons.berkeley.edu/programs/bigdata2013)"
     ]
    },
    {
     "cell_type": "heading",
     "level": 2,
     "metadata": {},
     "source": [
      "What to learn next?"
     ]
    },
    {
     "cell_type": "markdown",
     "metadata": {},
     "source": [
      "* Advance [visualization with D3](http://d3js.org/)\n",
      "\n",
      "* Data storage with [MySQl](http://www.mysql.com/)\n",
      "\n",
      "* Machine learning\n",
      "\n",
      "* [Advance programming techniques](https://python.g-node.org/wiki/schedule)"
     ]
    }
   ],
   "metadata": {}
  }
 ]
}