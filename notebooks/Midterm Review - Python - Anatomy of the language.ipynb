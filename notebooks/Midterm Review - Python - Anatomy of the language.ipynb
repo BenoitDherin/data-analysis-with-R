{
 "metadata": {
  "name": ""
 },
 "nbformat": 3,
 "nbformat_minor": 0,
 "worksheets": [
  {
   "cells": [
    {
     "cell_type": "heading",
     "level": 1,
     "metadata": {
      "slideshow": {
       "slide_type": "slide"
      }
     },
     "source": [
      "Midterm Review: Mister Python"
     ]
    },
    {
     "cell_type": "markdown",
     "metadata": {
      "slideshow": {
       "slide_type": "fragment"
      }
     },
     "source": [
      "###Topics\n",
      "\n",
      "* The **food** of Mr. Python: **VARIABLES**\n",
      "\n",
      "\n",
      "* The **muscles** of Mr. Python: **LOOPING MECHANISMS**\n",
      "\n",
      "\n",
      "* The **brain** of Mr. Python: **BRANCHING MECHANISMS**\n",
      "\n",
      "\n",
      "* The **hands** of Mr. Python: **FUNCTIONS**\n",
      "\n",
      "\n",
      "* The **tools** of Mr. Python: **CLASSES** (dictionary, array, Series, and DataFrames)"
     ]
    },
    {
     "cell_type": "heading",
     "level": 1,
     "metadata": {
      "slideshow": {
       "slide_type": "slide"
      }
     },
     "source": [
      "The **food** of Mr. Python: **VARIABLES**"
     ]
    },
    {
     "cell_type": "heading",
     "level": 3,
     "metadata": {
      "slideshow": {
       "slide_type": "fragment"
      }
     },
     "source": [
      "Variable assignment"
     ]
    },
    {
     "cell_type": "code",
     "collapsed": false,
     "input": [
      "# Storing values into variables\n",
      "x = 3\n",
      "\n",
      "\n",
      "# Assignment copies values\n",
      "\n",
      "y = x\n",
      "y = 5\n",
      "\n",
      "# Retrieving values\n",
      "print x, y"
     ],
     "language": "python",
     "metadata": {
      "slideshow": {
       "slide_type": "fragment"
      }
     },
     "outputs": []
    },
    {
     "cell_type": "heading",
     "level": 2,
     "metadata": {
      "slideshow": {
       "slide_type": "slide"
      }
     },
     "source": [
      "Basic variables types: Boolean, Numbers, and Strings"
     ]
    },
    {
     "cell_type": "heading",
     "level": 3,
     "metadata": {
      "slideshow": {
       "slide_type": "slide"
      }
     },
     "source": [
      "Boolean: values and operations"
     ]
    },
    {
     "cell_type": "code",
     "collapsed": false,
     "input": [
      "a = True; b = False\n",
      "print type(a)\n",
      "print type(b)"
     ],
     "language": "python",
     "metadata": {
      "slideshow": {
       "slide_type": "fragment"
      }
     },
     "outputs": []
    },
    {
     "cell_type": "code",
     "collapsed": false,
     "input": [
      "print a and b\n",
      "print a or b\n",
      "print not a\n",
      "print a or (not b and a)"
     ],
     "language": "python",
     "metadata": {
      "slideshow": {
       "slide_type": "fragment"
      }
     },
     "outputs": []
    },
    {
     "cell_type": "heading",
     "level": 3,
     "metadata": {
      "slideshow": {
       "slide_type": "fragment"
      }
     },
     "source": [
      "Numbers: integers = <code>int</code>, real = <code>float</code>"
     ]
    },
    {
     "cell_type": "code",
     "collapsed": false,
     "input": [
      "print type(4)"
     ],
     "language": "python",
     "metadata": {
      "slideshow": {
       "slide_type": "fragment"
      }
     },
     "outputs": []
    },
    {
     "cell_type": "code",
     "collapsed": false,
     "input": [
      "print type(4.0)"
     ],
     "language": "python",
     "metadata": {
      "slideshow": {
       "slide_type": "fragment"
      }
     },
     "outputs": []
    },
    {
     "cell_type": "heading",
     "level": 3,
     "metadata": {
      "slideshow": {
       "slide_type": "slide"
      }
     },
     "source": [
      "Numbers: operations"
     ]
    },
    {
     "cell_type": "code",
     "collapsed": false,
     "input": [
      "# Basic numerical operations\n",
      "a = 2; b = 3; c = 3.4\n",
      "\n",
      "print a+b, a*b, a**b, a/b, a%b"
     ],
     "language": "python",
     "metadata": {
      "slideshow": {
       "slide_type": "fragment"
      }
     },
     "outputs": []
    },
    {
     "cell_type": "code",
     "collapsed": false,
     "input": [
      "# CAUTION: INTEGER DIVISION\n",
      "\n",
      "print 3/4\n",
      "print 3.0/4"
     ],
     "language": "python",
     "metadata": {
      "slideshow": {
       "slide_type": "fragment"
      }
     },
     "outputs": []
    },
    {
     "cell_type": "code",
     "collapsed": false,
     "input": [
      "# CONVERTION, CASTING\n",
      "\n",
      "print type(3)   , type(float(3))\n",
      "print type(3.0) , type(int(3.0))"
     ],
     "language": "python",
     "metadata": {
      "slideshow": {
       "slide_type": "fragment"
      }
     },
     "outputs": []
    },
    {
     "cell_type": "heading",
     "level": 3,
     "metadata": {
      "slideshow": {
       "slide_type": "slide"
      }
     },
     "source": [
      "Strings: using quotes to define strings"
     ]
    },
    {
     "cell_type": "code",
     "collapsed": false,
     "input": [
      "a = 'hello'\n",
      "\n",
      "b = \"hello\"\n",
      "\n",
      "c = \"hello! I'am good!\"\n",
      "\n",
      "d = \"\"\"Using three quotes allows\n",
      "you to enter multiline text like\n",
      "this one without carrying much\n",
      "about the new lines\"\"\"\n",
      "\n",
      "e = 'Without three quotes, you need to use the special newline charater\\nas in this text here.'\n",
      "\n",
      "NL  = '\\n'\n",
      "TAB = '\\t'\n",
      "\n",
      "print a, b, c, NL\n",
      "print d, NL\n",
      "print e, NL"
     ],
     "language": "python",
     "metadata": {
      "slideshow": {
       "slide_type": "fragment"
      }
     },
     "outputs": []
    },
    {
     "cell_type": "heading",
     "level": 3,
     "metadata": {
      "slideshow": {
       "slide_type": "slide"
      }
     },
     "source": [
      "Strings: formatting strings using place holders"
     ]
    },
    {
     "cell_type": "code",
     "collapsed": false,
     "input": [
      "# PLACE HOLDERS %s = strings, %d = integer, %f = float\n",
      "\n",
      "print \"%-10s\\t%-10s\\t%-10s\" % ('Name', 'Age', 'Weigth')\n",
      "\n",
      "print \"%-10s\\t%-10d\\t%-10.2f\" % ('Benoit', 56, 300)\n",
      "\n",
      "print \"%-10s\\t%-10d\\t%-10.2f\" % ('Claude', 12, 400)"
     ],
     "language": "python",
     "metadata": {
      "slideshow": {
       "slide_type": "fragment"
      }
     },
     "outputs": []
    },
    {
     "cell_type": "heading",
     "level": 3,
     "metadata": {
      "slideshow": {
       "slide_type": "slide"
      }
     },
     "source": [
      "Strings: operations"
     ]
    },
    {
     "cell_type": "code",
     "collapsed": false,
     "input": [
      "# addition = concatenation\n",
      "\n",
      "print 'Hello' + ' ' + 'Bonjour'"
     ],
     "language": "python",
     "metadata": {
      "slideshow": {
       "slide_type": "fragment"
      }
     },
     "outputs": []
    },
    {
     "cell_type": "code",
     "collapsed": false,
     "input": [
      "# multiplication by a scalar = repetition\n",
      "\n",
      "line = '-'*30\n",
      "print line"
     ],
     "language": "python",
     "metadata": {
      "slideshow": {
       "slide_type": "fragment"
      }
     },
     "outputs": []
    },
    {
     "cell_type": "code",
     "collapsed": false,
     "input": [
      "# character selection by brackets and slices\n",
      "\n",
      "DNA = 'ACGTAACAACTAT' * 4\n",
      "\n",
      "print DNA\n",
      "print DNA[0]\n",
      "print DNA[-1]\n",
      "print DNA[13:24]"
     ],
     "language": "python",
     "metadata": {
      "slideshow": {
       "slide_type": "fragment"
      }
     },
     "outputs": []
    },
    {
     "cell_type": "heading",
     "level": 3,
     "metadata": {
      "slideshow": {
       "slide_type": "slide"
      }
     },
     "source": [
      "Strings: iteration and membership testing"
     ]
    },
    {
     "cell_type": "code",
     "collapsed": false,
     "input": [
      "# iterating over a string\n",
      "\n",
      "DNA_csv = ''\n",
      "\n",
      "for nucleotide in DNA:\n",
      "    DNA_csv = DNA_csv + nucleotide + ','\n",
      "    \n",
      "print DNA_csv"
     ],
     "language": "python",
     "metadata": {
      "slideshow": {
       "slide_type": "fragment"
      }
     },
     "outputs": []
    },
    {
     "cell_type": "code",
     "collapsed": false,
     "input": [
      "# membership testing\n",
      "\n",
      "print 'ACT' in DNA\n",
      "print 'AAA' in DNA"
     ],
     "language": "python",
     "metadata": {
      "slideshow": {
       "slide_type": "fragment"
      }
     },
     "outputs": []
    },
    {
     "cell_type": "heading",
     "level": 3,
     "metadata": {
      "slideshow": {
       "slide_type": "slide"
      }
     },
     "source": [
      "Strings: methods"
     ]
    },
    {
     "cell_type": "code",
     "collapsed": false,
     "input": [
      "print DNA\n",
      "\n",
      "DNA.find('ACT') # finds the first occurence of the substring"
     ],
     "language": "python",
     "metadata": {
      "slideshow": {
       "slide_type": "fragment"
      }
     },
     "outputs": []
    },
    {
     "cell_type": "code",
     "collapsed": false,
     "input": [
      "DNA_csv.replace(',',':')"
     ],
     "language": "python",
     "metadata": {
      "slideshow": {
       "slide_type": "fragment"
      }
     },
     "outputs": []
    },
    {
     "cell_type": "code",
     "collapsed": false,
     "input": [
      "DNA.lower() # corresponding upper method\n"
     ],
     "language": "python",
     "metadata": {
      "slideshow": {
       "slide_type": "fragment"
      }
     },
     "outputs": []
    },
    {
     "cell_type": "heading",
     "level": 2,
     "metadata": {
      "slideshow": {
       "slide_type": "slide"
      }
     },
     "source": [
      "The **muscles** of Mr. Python: **LOOPING MECHANISMS**"
     ]
    },
    {
     "cell_type": "heading",
     "level": 3,
     "metadata": {
      "slideshow": {
       "slide_type": "slide"
      }
     },
     "source": [
      "Looping mechanisms need lists to loop over (or list-like objects such as strings, Numpy arrays, or Pandas Series)"
     ]
    },
    {
     "cell_type": "heading",
     "level": 3,
     "metadata": {
      "slideshow": {
       "slide_type": "fragment"
      }
     },
     "source": [
      "List: creation"
     ]
    },
    {
     "cell_type": "code",
     "collapsed": false,
     "input": [
      "list_from_square_brackets = ['a', 1, 'b', 2, 'c', 3]\n",
      "\n",
      "list_from_round_brackets = (1, 3, 5, 2, 5) # using round brackets makes the list constant\n",
      "\n",
      "list_from_strings = list('ACGTAACCTCGTAA')\n",
      "\n",
      "print list_from_square_brackets\n",
      "print list_from_round_brackets\n",
      "print list_from_strings"
     ],
     "language": "python",
     "metadata": {
      "slideshow": {
       "slide_type": "fragment"
      }
     },
     "outputs": []
    },
    {
     "cell_type": "heading",
     "level": 3,
     "metadata": {
      "slideshow": {
       "slide_type": "slide"
      }
     },
     "source": [
      "Lists: addition = concatenation,  multiplication = repetition"
     ]
    },
    {
     "cell_type": "code",
     "collapsed": false,
     "input": [
      "a = ['A']\n",
      "b = ['C']\n",
      "\n",
      "print a + b\n",
      "\n",
      "print (a + b) + (a + a + b)\n",
      " \n",
      "print 2*a + 3*b"
     ],
     "language": "python",
     "metadata": {
      "slideshow": {
       "slide_type": "fragment"
      }
     },
     "outputs": []
    },
    {
     "cell_type": "heading",
     "level": 3,
     "metadata": {
      "slideshow": {
       "slide_type": "slide"
      }
     },
     "source": [
      "Lists: selection and assignment"
     ]
    },
    {
     "cell_type": "code",
     "collapsed": false,
     "input": [
      "a = list('0123456789')\n",
      "print a\n",
      "print line\n",
      "\n",
      "print a[3]\n",
      "print a[2:9]\n",
      "print a[-3]"
     ],
     "language": "python",
     "metadata": {
      "slideshow": {
       "slide_type": "slide"
      }
     },
     "outputs": []
    },
    {
     "cell_type": "code",
     "collapsed": false,
     "input": [
      "#print line\n",
      "\n",
      "#a[0] = 'a'\n",
      "#print a\n",
      "\n",
      "#print line\n",
      "a = list('0123456789')\n",
      "\n",
      "a[3:5] = [1]*10\n",
      "\n",
      "print a"
     ],
     "language": "python",
     "metadata": {},
     "outputs": []
    },
    {
     "cell_type": "code",
     "collapsed": false,
     "input": [
      "b = [ ['00', '01', '02', '03'], ['10','11', '12', '13'], [1, 2, 3,4]]\n",
      "\n",
      "#print b[1][0]\n",
      "\n",
      "#print b[1][0:2]\n",
      "print b[0:2][0:2]\n",
      "\n",
      "#print b[0:2]\n",
      "#[0:1]"
     ],
     "language": "python",
     "metadata": {
      "slideshow": {
       "slide_type": "fragment"
      }
     },
     "outputs": []
    },
    {
     "cell_type": "heading",
     "level": 3,
     "metadata": {
      "slideshow": {
       "slide_type": "slide"
      }
     },
     "source": [
      "Looping with comprehension"
     ]
    },
    {
     "cell_type": "code",
     "collapsed": false,
     "input": [
      "aaa = [(x, x**2) for x in range(100) if x%3 == 0]\n",
      "print aaa"
     ],
     "language": "python",
     "metadata": {
      "slideshow": {
       "slide_type": "fragment"
      }
     },
     "outputs": []
    },
    {
     "cell_type": "code",
     "collapsed": false,
     "input": [
      "human_DNA = list('ACAACTTACAAT'*4)\n",
      "\n",
      "alien_DNA = [nucleotide for nucleotide in human_DNA if nucleotide != 'A']\n",
      "\n",
      "print alien_DNA\n"
     ],
     "language": "python",
     "metadata": {
      "slideshow": {
       "slide_type": "fragment"
      }
     },
     "outputs": []
    },
    {
     "cell_type": "heading",
     "level": 3,
     "metadata": {
      "slideshow": {
       "slide_type": "slide"
      }
     },
     "source": [
      "Looping with <code>for</code>"
     ]
    },
    {
     "cell_type": "code",
     "collapsed": false,
     "input": [
      "cum_sum = 0; counter = 0\n",
      "\n",
      "for number in aaa:\n",
      "    cum_sum  = cum_sum + counter \n",
      "    counter += 1\n",
      "print cum_sum\n",
      "    "
     ],
     "language": "python",
     "metadata": {
      "slideshow": {
       "slide_type": "fragment"
      }
     },
     "outputs": []
    },
    {
     "cell_type": "code",
     "collapsed": false,
     "input": [
      "a = 12; b = 32; c = 90; d = 89\n",
      "\n",
      "numbers = [a, b, c, d]\n",
      "names   = ['a', 'b', 'c', 'd']\n",
      "\n",
      "labelled_numbers = zip(names, numbers)\n",
      "\n",
      "print labelled_numbers\n",
      "\n",
      "for name, number in labelled_numbers:\n",
      "    print name, number"
     ],
     "language": "python",
     "metadata": {
      "slideshow": {
       "slide_type": "fragment"
      }
     },
     "outputs": []
    },
    {
     "cell_type": "heading",
     "level": 1,
     "metadata": {
      "slideshow": {
       "slide_type": "slide"
      }
     },
     "source": [
      "The brain of Mr. Python: BRANCHING MECHANISMS"
     ]
    },
    {
     "cell_type": "code",
     "collapsed": false,
     "input": [
      "# Try to change the value of the boolean variable \"condition\"\n",
      "\n",
      "condition = True\n",
      "\n",
      "if condition:\n",
      "    print 'If the boolean variable \"condition\" is True, this statement is executed.'\n",
      "else:\n",
      "    print 'Otherwise, this statement here is executed'\n"
     ],
     "language": "python",
     "metadata": {
      "slideshow": {
       "slide_type": "fragment"
      }
     },
     "outputs": []
    },
    {
     "cell_type": "code",
     "collapsed": false,
     "input": [
      "# The else part may be omitted in case there is nothing to do when \"condition\" is False\n",
      "condition = True\n",
      "\n",
      "if condition:\n",
      "    print 'Great! Condition was True', '\\n'\n",
      "    \n",
      "    \n",
      "print \"\"\" Because of the indentation, \n",
      "this staement here is not part of the if block, \n",
      "and thus will always be executed.\n",
      "Try identing it so as to be part of the \"if\" block\" and change condition to be False\"\"\""
     ],
     "language": "python",
     "metadata": {
      "slideshow": {
       "slide_type": "fragment"
      }
     },
     "outputs": []
    },
    {
     "cell_type": "code",
     "collapsed": false,
     "input": [
      "# try with number = 0, 1, 2, 3, 4\n",
      "# the block of code corresponding to the first matching condition is executed;\n",
      "# the remaining conditions are then skipped\n",
      "\n",
      "number = 1.5\n",
      "\n",
      "if number < 1:\n",
      "    print 'number is smaller than', 1\n",
      "elif number < 2:\n",
      "    print 'number\"is smaller than', 2\n",
      "elif number < 3:\n",
      "    print 'number is smaller than', 3\n",
      "else:\n",
      "    print 'number is big!'\n",
      "    "
     ],
     "language": "python",
     "metadata": {
      "slideshow": {
       "slide_type": "slide"
      }
     },
     "outputs": []
    },
    {
     "cell_type": "heading",
     "level": 1,
     "metadata": {
      "slideshow": {
       "slide_type": "slide"
      }
     },
     "source": [
      "The hands of Mr. Python: FUNCTIONS"
     ]
    },
    {
     "cell_type": "markdown",
     "metadata": {
      "slideshow": {
       "slide_type": "slide"
      }
     },
     "source": [
      "Functions provide a convenient way to package useful block of codes into a reusable entity. \n",
      "\n",
      "The syntax to define a function is the following:\n",
      "\n",
      "    def my_function(input1=default_value, input2=default_value, etc.):\n",
      "        statement 1\n",
      "        statement 2\n",
      "        etc.\n",
      "        return output\n",
      "\n",
      "**Default values** (above: <code>default_value</code>) may or may not be specified\n",
      "\n",
      "    def clean_data(data, sep=':'):\n",
      "    \n",
      "    "
     ]
    },
    {
     "cell_type": "markdown",
     "metadata": {
      "slideshow": {
       "slide_type": "slide"
      }
     },
     "source": [
      "    \n",
      "A function\n",
      "\n",
      "* takes an **input** in the form of of several **arguments** (above: input1, input2, etc.)\n",
      "\n",
      "* excute the block of code defined in the **function body** (above: statement 1, statement 2, etc.)\n",
      "\n",
      "* return to the caller whatever value is specified in the **return statement** "
     ]
    },
    {
     "cell_type": "heading",
     "level": 3,
     "metadata": {
      "slideshow": {
       "slide_type": "slide"
      }
     },
     "source": [
      "Print and return statements"
     ]
    },
    {
     "cell_type": "markdown",
     "metadata": {
      "slideshow": {
       "slide_type": "fragment"
      }
     },
     "source": [
      "> **return statement** =  statement with the <code>return</code> keyword in it\n",
      ">\n",
      "> **print statement** = statement with the <code>print</code> in it\n",
      "\n",
      "\n",
      "    \n",
      "**Remark 1:** If **no return statement is specified**, the function returns the special value <code>None</code> by default\n",
      " \n",
      "**Remark 2:** A **print statement** is different from a return statement:\n",
      "\n",
      "\n",
      "$\\longrightarrow$It just prints something on the standard output, but does not return anything."
     ]
    },
    {
     "cell_type": "code",
     "collapsed": false,
     "input": [
      "def print_and_return_nothing(string='Hello!'):\n",
      "    print string\n",
      "    \n",
      "a = print_and_return_nothing()\n",
      "b = print_and_return_nothing('Guten Tag!')\n",
      "\n",
      "print line\n",
      "print a, b\n"
     ],
     "language": "python",
     "metadata": {
      "slideshow": {
       "slide_type": "fragment"
      }
     },
     "outputs": []
    },
    {
     "cell_type": "code",
     "collapsed": false,
     "input": [
      "# the code in the previous cell above is the same as the following one that returns None\n",
      "\n",
      "def print_and_return_nothing(string='Hello!'):\n",
      "    print string\n",
      "    return None\n",
      "\n",
      "a = print_and_return_nothing()\n",
      "print line\n",
      "print a"
     ],
     "language": "python",
     "metadata": {
      "slideshow": {
       "slide_type": "fragment"
      }
     },
     "outputs": []
    },
    {
     "cell_type": "code",
     "collapsed": false,
     "input": [
      "def dont_print_but_return_something(string='Hello!'):\n",
      "    return string\n",
      "\n",
      "xxx = dont_print_but_return_something()\n",
      "print line\n",
      "print xxx\n"
     ],
     "language": "python",
     "metadata": {
      "slideshow": {
       "slide_type": "fragment"
      }
     },
     "outputs": []
    },
    {
     "cell_type": "heading",
     "level": 3,
     "metadata": {
      "slideshow": {
       "slide_type": "slide"
      }
     },
     "source": [
      "Function calls"
     ]
    },
    {
     "cell_type": "markdown",
     "metadata": {
      "slideshow": {
       "slide_type": "fragment"
      }
     },
     "source": [
      "\n",
      "\n",
      "A **function call** is a statement of the form\n",
      "\n",
      "    function_name(value1, value2, etc.)\n",
      "where value1, value2, etc. are actual values (numbers, strings, boolean, etc.) that are **passed as arguments** to the function.\n",
      "\n",
      "For all practical purposes:\n",
      "\n",
      "$\\longrightarrow$ **A function call can be substitued by the return value of the function.**"
     ]
    },
    {
     "cell_type": "code",
     "collapsed": false,
     "input": [
      "# function definitions: the function body is NOT EXECUTED AT THIS POINT\n",
      "def f(x,y):\n",
      "    return x + y + y + 2*x\n",
      "\n",
      "def g(x):\n",
      "    return x*2"
     ],
     "language": "python",
     "metadata": {
      "slideshow": {
       "slide_type": "fragment"
      }
     },
     "outputs": []
    },
    {
     "cell_type": "code",
     "collapsed": false,
     "input": [
      "# The code in the body of a function is executed only upon FUNCTION CALLS!!!!\n",
      "f(4, 5)"
     ],
     "language": "python",
     "metadata": {
      "slideshow": {
       "slide_type": "fragment"
      }
     },
     "outputs": []
    },
    {
     "cell_type": "heading",
     "level": 3,
     "metadata": {
      "slideshow": {
       "slide_type": "slide"
      }
     },
     "source": [
      "Python functions are \"generic\""
     ]
    },
    {
     "cell_type": "markdown",
     "metadata": {
      "slideshow": {
       "slide_type": "fragment"
      }
     },
     "source": [
      "The function\n",
      "\n",
      "    def f(x,y):\n",
      "        return x + y + y + 2*x\n",
      "\n",
      "will accept as arguments **any type** for which **the operations acting on the arguments in the function body are defined**.\n",
      "\n",
      "One says that the function is **generic**, since restrictions on argument types are contrained only by the operations\n",
      "performed on the arguments in the function body. "
     ]
    },
    {
     "cell_type": "code",
     "collapsed": false,
     "input": [
      "# Addition and multiplication by scalas are defined for strings\n",
      "\n",
      "a = f('Hello', 'Bonjour')\n",
      "print a"
     ],
     "language": "python",
     "metadata": {
      "slideshow": {
       "slide_type": "fragment"
      }
     },
     "outputs": []
    },
    {
     "cell_type": "code",
     "collapsed": false,
     "input": [
      "# Addition and multiplication by scalars are defined for lists\n",
      "from numpy import array\n",
      "\n",
      "b = f([1,1,1], [2,2,2])\n",
      "print b\n",
      "\n",
      "c = f(array([1, 1, 1]), array([2, 2, 2]))\n",
      "print c"
     ],
     "language": "python",
     "metadata": {
      "slideshow": {
       "slide_type": "fragment"
      }
     },
     "outputs": []
    },
    {
     "cell_type": "heading",
     "level": 3,
     "metadata": {
      "slideshow": {
       "slide_type": "slide"
      }
     },
     "source": [
      "Function composition"
     ]
    },
    {
     "cell_type": "markdown",
     "metadata": {
      "slideshow": {
       "slide_type": "fragment"
      }
     },
     "source": [
      "**The return value of a function can be passed as argmument to another function.**\n",
      "\n",
      "This way, one can **compose functions** in a **composite function call**. "
     ]
    },
    {
     "cell_type": "code",
     "collapsed": false,
     "input": [
      "def f(x,y):\n",
      "    return x + y + y + 2*x\n",
      "\n",
      "def g(x):\n",
      "    return x*2\n",
      "\n",
      "A = 'A'; C = 'C'; G = 'G'; T = 'T' \n",
      "\n",
      "#print 'ABCD'\n",
      "\n",
      "a = f(f(A,C),g(g(f(A,T))))\n"
     ],
     "language": "python",
     "metadata": {
      "slideshow": {
       "slide_type": "fragment"
      }
     },
     "outputs": []
    },
    {
     "cell_type": "heading",
     "level": 1,
     "metadata": {
      "slideshow": {
       "slide_type": "slide"
      }
     },
     "source": [
      "The tools of Mr. Python: CLASSES"
     ]
    },
    {
     "cell_type": "heading",
     "level": 2,
     "metadata": {
      "slideshow": {
       "slide_type": "fragment"
      }
     },
     "source": [
      "Defining your own class"
     ]
    },
    {
     "cell_type": "code",
     "collapsed": false,
     "input": [
      "class linear_fct(object):\n",
      "    \n",
      "    def __init__(self, a, b):\n",
      "        self.a = a\n",
      "        self.b = b\n",
      "        \n",
      "    def __call__(self, x):\n",
      "        return self.compute(x)\n",
      "    \n",
      "    def __repr__(self):\n",
      "       return  \"line(x) = %.1fx + %.1f\" % (self.a, self.b)\n",
      "    \n",
      "    def sample(self, x_values):\n",
      "        return [(x, self.compute(x)) for x in x_values]\n",
      "        \n",
      "    def compute(self, x):\n",
      "        return self.a*x + self.b"
     ],
     "language": "python",
     "metadata": {
      "slideshow": {
       "slide_type": "fragment"
      }
     },
     "outputs": [],
     "prompt_number": 146
    },
    {
     "cell_type": "code",
     "collapsed": false,
     "input": [
      "F = linear_fct(a=2, b=9)\n"
     ],
     "language": "python",
     "metadata": {},
     "outputs": [],
     "prompt_number": 144
    },
    {
     "cell_type": "code",
     "collapsed": false,
     "input": [
      "F.compute(8)\n",
      "F(2, 3, 4)\n",
      "\n",
      "F.x"
     ],
     "language": "python",
     "metadata": {},
     "outputs": [
      {
       "metadata": {},
       "output_type": "pyout",
       "prompt_number": 145,
       "text": [
        "2"
       ]
      }
     ],
     "prompt_number": 145
    },
    {
     "cell_type": "code",
     "collapsed": false,
     "input": [],
     "language": "python",
     "metadata": {},
     "outputs": []
    },
    {
     "cell_type": "code",
     "collapsed": false,
     "input": [
      "f = linear_fct(2, 5)\n",
      "type(f)"
     ],
     "language": "python",
     "metadata": {
      "slideshow": {
       "slide_type": "fragment"
      }
     },
     "outputs": []
    },
    {
     "cell_type": "code",
     "collapsed": false,
     "input": [
      "f(3)"
     ],
     "language": "python",
     "metadata": {
      "slideshow": {
       "slide_type": "fragment"
      }
     },
     "outputs": []
    },
    {
     "cell_type": "code",
     "collapsed": false,
     "input": [
      "f"
     ],
     "language": "python",
     "metadata": {
      "slideshow": {
       "slide_type": "fragment"
      }
     },
     "outputs": []
    },
    {
     "cell_type": "code",
     "collapsed": false,
     "input": [
      "print f"
     ],
     "language": "python",
     "metadata": {
      "slideshow": {
       "slide_type": "fragment"
      }
     },
     "outputs": []
    },
    {
     "cell_type": "code",
     "collapsed": false,
     "input": [
      "print f.sample(range(10))"
     ],
     "language": "python",
     "metadata": {
      "slideshow": {
       "slide_type": "fragment"
      }
     },
     "outputs": []
    },
    {
     "cell_type": "code",
     "collapsed": false,
     "input": [
      "f.a = 10; f.b = 100\n",
      "print f"
     ],
     "language": "python",
     "metadata": {
      "slideshow": {
       "slide_type": "fragment"
      }
     },
     "outputs": []
    },
    {
     "cell_type": "heading",
     "level": 1,
     "metadata": {
      "slideshow": {
       "slide_type": "slide"
      }
     },
     "source": [
      "Dictionary class"
     ]
    },
    {
     "cell_type": "heading",
     "level": 3,
     "metadata": {
      "slideshow": {
       "slide_type": "fragment"
      }
     },
     "source": [
      "Constructing dictionaries"
     ]
    },
    {
     "cell_type": "code",
     "collapsed": false,
     "input": [
      "# By listing elements\n",
      "dic1 = {'a':1, 'b':True, 'c':'Hello', 'd':[1,2,3]}\n",
      "\n",
      "# By comprehension\n",
      "dic2 = {'Key'+str(x):x**2 for x in range(10)}"
     ],
     "language": "python",
     "metadata": {
      "slideshow": {
       "slide_type": "fragment"
      }
     },
     "outputs": [],
     "prompt_number": 161
    },
    {
     "cell_type": "code",
     "collapsed": false,
     "input": [
      "print dic1\n",
      "print line\n",
      "\n",
      "print dic2"
     ],
     "language": "python",
     "metadata": {
      "slideshow": {
       "slide_type": "fragment"
      }
     },
     "outputs": [
      {
       "output_type": "stream",
       "stream": "stdout",
       "text": [
        "{'a': 1, 'c': 'Hello', 'b': True, 'd': [1, 2, 3]}\n",
        "------------------------------\n",
        "{'Key9': 81, 'Key8': 64, 'Key3': 9, 'Key2': 4, 'Key1': 1, 'Key0': 0, 'Key7': 49, 'Key6': 36, 'Key5': 25, 'Key4': 16}\n"
       ]
      }
     ],
     "prompt_number": 163
    },
    {
     "cell_type": "heading",
     "level": 3,
     "metadata": {
      "slideshow": {
       "slide_type": "slide"
      }
     },
     "source": [
      "Getting and setting values"
     ]
    },
    {
     "cell_type": "code",
     "collapsed": false,
     "input": [
      "print dic1['c']\n",
      "print dic1['d']"
     ],
     "language": "python",
     "metadata": {
      "slideshow": {
       "slide_type": "fragment"
      }
     },
     "outputs": []
    },
    {
     "cell_type": "code",
     "collapsed": false,
     "input": [
      "dic2['Key3'] = \"Ah Ah!\"\n",
      "print dic2"
     ],
     "language": "python",
     "metadata": {
      "slideshow": {
       "slide_type": "fragment"
      }
     },
     "outputs": []
    },
    {
     "cell_type": "heading",
     "level": 3,
     "metadata": {
      "slideshow": {
       "slide_type": "slide"
      }
     },
     "source": [
      "Iterating over keys"
     ]
    },
    {
     "cell_type": "code",
     "collapsed": false,
     "input": [
      "print dic2.keys()\n",
      "\n",
      "print line\n",
      "\n",
      "for key in dic2.keys():\n",
      "    print key,':', dic2[key]"
     ],
     "language": "python",
     "metadata": {
      "slideshow": {
       "slide_type": "fragment"
      }
     },
     "outputs": [
      {
       "output_type": "stream",
       "stream": "stdout",
       "text": [
        "['Key9', 'Key8', 'Key3', 'Key2', 'Key1', 'Key0', 'Key7', 'Key6', 'Key5', 'Key4']\n",
        "------------------------------\n",
        "Key9 : 81\n",
        "Key8 : 64\n",
        "Key3 : 9\n",
        "Key2 : 4\n",
        "Key1 : 1\n",
        "Key0 : 0\n",
        "Key7 : 49\n",
        "Key6 : 36\n",
        "Key5 : 25\n",
        "Key4 : 16\n"
       ]
      }
     ],
     "prompt_number": 170
    },
    {
     "cell_type": "heading",
     "level": 1,
     "metadata": {
      "slideshow": {
       "slide_type": "slide"
      }
     },
     "source": [
      "Array class"
     ]
    },
    {
     "cell_type": "code",
     "collapsed": false,
     "input": [
      "from numpy import array\n",
      "import numpy as np"
     ],
     "language": "python",
     "metadata": {
      "slideshow": {
       "slide_type": "fragment"
      }
     },
     "outputs": [],
     "prompt_number": 171
    },
    {
     "cell_type": "heading",
     "level": 3,
     "metadata": {
      "slideshow": {
       "slide_type": "slide"
      }
     },
     "source": [
      "Constructing arrays"
     ]
    },
    {
     "cell_type": "code",
     "collapsed": false,
     "input": [
      "A = array(range(24))\n",
      "a = [1, 2, 4]\n"
     ],
     "language": "python",
     "metadata": {
      "slideshow": {
       "slide_type": "fragment"
      }
     },
     "outputs": [],
     "prompt_number": 188
    },
    {
     "cell_type": "code",
     "collapsed": false,
     "input": [
      "A = A.reshape(4, 6)\n",
      "\n",
      "A"
     ],
     "language": "python",
     "metadata": {
      "slideshow": {
       "slide_type": "fragment"
      }
     },
     "outputs": [
      {
       "metadata": {},
       "output_type": "pyout",
       "prompt_number": 191,
       "text": [
        "array([[ 0,  1,  2,  3,  4,  5],\n",
        "       [ 6,  7,  8,  9, 10, 11],\n",
        "       [12, 13, 14, 15, 16, 17],\n",
        "       [18, 19, 20, 21, 22, 23]])"
       ]
      }
     ],
     "prompt_number": 191
    },
    {
     "cell_type": "heading",
     "level": 3,
     "metadata": {
      "slideshow": {
       "slide_type": "slide"
      }
     },
     "source": [
      "Getting and setting entries"
     ]
    },
    {
     "cell_type": "code",
     "collapsed": false,
     "input": [
      "print A\n",
      "print line\n",
      "\n",
      "print A[2,3]\n",
      "print line\n",
      "\n",
      "print A[1:4, 1:3]\n",
      "print line\n",
      "\n",
      "print A[::2, :]\n",
      "print line\n",
      "\n",
      "print A[:, ::2]"
     ],
     "language": "python",
     "metadata": {
      "slideshow": {
       "slide_type": "fragment"
      }
     },
     "outputs": [
      {
       "output_type": "stream",
       "stream": "stdout",
       "text": [
        "[[ 0  1  2  3  4  5]\n",
        " [ 6  7  8  9 10 11]\n",
        " [12 13 14 15 16 17]\n",
        " [18 19 20 21 22 23]]\n",
        "------------------------------\n",
        "15\n",
        "------------------------------\n",
        "[[ 7  8]\n",
        " [13 14]\n",
        " [19 20]]\n",
        "------------------------------\n",
        "[[ 0  1  2  3  4  5]\n",
        " [12 13 14 15 16 17]]\n",
        "------------------------------\n",
        "[[ 0  2  4]\n",
        " [ 6  8 10]\n",
        " [12 14 16]\n",
        " [18 20 22]]\n"
       ]
      }
     ],
     "prompt_number": 194
    },
    {
     "cell_type": "code",
     "collapsed": false,
     "input": [
      "print A; print line\n",
      "\n",
      "A[::2, ::2] = 999\n",
      "\n",
      "print A"
     ],
     "language": "python",
     "metadata": {
      "slideshow": {
       "slide_type": "slide"
      }
     },
     "outputs": [
      {
       "output_type": "stream",
       "stream": "stdout",
       "text": [
        "[[ 0  1  2  3  4  5]\n",
        " [ 6  7  8  9 10 11]\n",
        " [12 13 14 15 16 17]\n",
        " [18 19 20 21 22 23]]\n",
        "------------------------------\n",
        "[[999   1 999   3 999   5]\n",
        " [  6   7   8   9  10  11]\n",
        " [999  13 999  15 999  17]\n",
        " [ 18  19  20  21  22  23]]\n"
       ]
      }
     ],
     "prompt_number": 195
    },
    {
     "cell_type": "heading",
     "level": 3,
     "metadata": {
      "slideshow": {
       "slide_type": "slide"
      }
     },
     "source": [
      "Logical arrays"
     ]
    },
    {
     "cell_type": "code",
     "collapsed": false,
     "input": [
      "ind = A != 999\n",
      "print ind"
     ],
     "language": "python",
     "metadata": {
      "slideshow": {
       "slide_type": "fragment"
      }
     },
     "outputs": [
      {
       "output_type": "stream",
       "stream": "stdout",
       "text": [
        "[[False  True False  True False  True]\n",
        " [ True  True  True  True  True  True]\n",
        " [False  True False  True False  True]\n",
        " [ True  True  True  True  True  True]]\n"
       ]
      }
     ],
     "prompt_number": 201
    },
    {
     "cell_type": "code",
     "collapsed": false,
     "input": [
      "A[ind]"
     ],
     "language": "python",
     "metadata": {
      "slideshow": {
       "slide_type": "fragment"
      }
     },
     "outputs": [
      {
       "metadata": {},
       "output_type": "pyout",
       "prompt_number": 202,
       "text": [
        "array([ 1,  3,  5,  6,  7,  8,  9, 10, 11, 13, 15, 17, 18, 19, 20, 21, 22,\n",
        "       23])"
       ]
      }
     ],
     "prompt_number": 202
    },
    {
     "cell_type": "code",
     "collapsed": false,
     "input": [
      "A[ind] = 0\n",
      "print A"
     ],
     "language": "python",
     "metadata": {
      "slideshow": {
       "slide_type": "fragment"
      }
     },
     "outputs": []
    },
    {
     "cell_type": "heading",
     "level": 3,
     "metadata": {
      "slideshow": {
       "slide_type": "slide"
      }
     },
     "source": [
      "Vectorized computations"
     ]
    },
    {
     "cell_type": "code",
     "collapsed": false,
     "input": [
      "print np.cos(A)"
     ],
     "language": "python",
     "metadata": {
      "slideshow": {
       "slide_type": "fragment"
      }
     },
     "outputs": [
      {
       "output_type": "stream",
       "stream": "stdout",
       "text": [
        "[[ 0.99964985  0.54030231  0.99964985 -0.9899925   0.99964985  0.28366219]\n",
        " [ 0.96017029  0.75390225 -0.14550003 -0.91113026 -0.83907153  0.0044257 ]\n",
        " [ 0.99964985  0.90744678  0.99964985 -0.75968791  0.99964985 -0.27516334]\n",
        " [ 0.66031671  0.98870462  0.40808206 -0.54772926 -0.99996083 -0.53283302]]\n"
       ]
      }
     ],
     "prompt_number": 203
    },
    {
     "cell_type": "code",
     "collapsed": false,
     "input": [
      "A + 1"
     ],
     "language": "python",
     "metadata": {
      "slideshow": {
       "slide_type": "fragment"
      }
     },
     "outputs": [
      {
       "metadata": {},
       "output_type": "pyout",
       "prompt_number": 204,
       "text": [
        "array([[1000,    2, 1000,    4, 1000,    6],\n",
        "       [   7,    8,    9,   10,   11,   12],\n",
        "       [1000,   14, 1000,   16, 1000,   18],\n",
        "       [  19,   20,   21,   22,   23,   24]])"
       ]
      }
     ],
     "prompt_number": 204
    },
    {
     "cell_type": "code",
     "collapsed": false,
     "input": [
      "A * np.cos(A) + A * np.sin(A)"
     ],
     "language": "python",
     "metadata": {
      "slideshow": {
       "slide_type": "fragment"
      }
     },
     "outputs": [
      {
       "metadata": {},
       "output_type": "pyout",
       "prompt_number": 205,
       "text": [
        "array([[ 972.21591114,    1.38177329,  972.21591114,   -2.54661747,\n",
        "         972.21591114,   -3.37631045],\n",
        "       [   4.08452873,    9.87622197,    6.7508657 ,   -4.49110599,\n",
        "         -13.8309264 ,  -10.95120959],\n",
        "       [ 972.21591114,   17.25897964,  972.21591114,   -1.64100109,\n",
        "         972.21591114,  -21.02153411],\n",
        "       [  -1.63206969,   21.63305473,   26.42054625,    6.06745394,\n",
        "         -22.19386699,  -31.71822876]])"
       ]
      }
     ],
     "prompt_number": 205
    },
    {
     "cell_type": "heading",
     "level": 1,
     "metadata": {
      "slideshow": {
       "slide_type": "slide"
      }
     },
     "source": [
      "Series class"
     ]
    },
    {
     "cell_type": "code",
     "collapsed": false,
     "input": [
      "from pandas import Series\n",
      "import pandas as pd"
     ],
     "language": "python",
     "metadata": {
      "slideshow": {
       "slide_type": "fragment"
      }
     },
     "outputs": [],
     "prompt_number": 206
    },
    {
     "cell_type": "code",
     "collapsed": false,
     "input": [
      "# constructing Series from data array and label list separated\n",
      "\n",
      "data = np.random.randn(100)\n",
      "labels = ['x'+str(x) for x in range(100)]\n",
      "\n",
      "s1 = Series(data, index=labels, name='Variable 1')\n",
      "\n",
      "s1.head()"
     ],
     "language": "python",
     "metadata": {
      "slideshow": {
       "slide_type": "fragment"
      }
     },
     "outputs": [
      {
       "metadata": {},
       "output_type": "pyout",
       "prompt_number": 207,
       "text": [
        "x0    0.548887\n",
        "x1    0.322762\n",
        "x2    0.148683\n",
        "x3    0.645340\n",
        "x4   -2.068228\n",
        "Name: Variable 1, dtype: float64"
       ]
      }
     ],
     "prompt_number": 207
    },
    {
     "cell_type": "code",
     "collapsed": false,
     "input": [
      "# Constructing series from a dictionary\n",
      "\n",
      "from random import random\n",
      "\n",
      "data = {'x' + str(x):random() for x in range(100)}\n",
      "\n",
      "s2 = Series(data, name='Variable 2')\n",
      "\n",
      "s2.head()"
     ],
     "language": "python",
     "metadata": {
      "slideshow": {
       "slide_type": "slide"
      }
     },
     "outputs": [
      {
       "metadata": {},
       "output_type": "pyout",
       "prompt_number": 208,
       "text": [
        "x0     0.527242\n",
        "x1     0.360430\n",
        "x10    0.742732\n",
        "x11    0.742263\n",
        "x12    0.460431\n",
        "Name: Variable 2, dtype: float64"
       ]
      }
     ],
     "prompt_number": 208
    },
    {
     "cell_type": "code",
     "collapsed": false,
     "input": [
      "%matplotlib inline\n",
      "s1.plot();"
     ],
     "language": "python",
     "metadata": {
      "slideshow": {
       "slide_type": "slide"
      }
     },
     "outputs": [
      {
       "metadata": {},
       "output_type": "display_data",
       "png": "[encoded data removed]",
       "text": [
        "<matplotlib.figure.Figure at 0x10cc10290>"
       ]
      }
     ],
     "prompt_number": 213
    },
    {
     "cell_type": "code",
     "collapsed": false,
     "input": [
      "s1.hist(bins=15)"
     ],
     "language": "python",
     "metadata": {
      "slideshow": {
       "slide_type": "slide"
      }
     },
     "outputs": [
      {
       "metadata": {},
       "output_type": "pyout",
       "prompt_number": 214,
       "text": [
        "<matplotlib.axes.AxesSubplot at 0x10cf18f90>"
       ]
      },
      {
       "metadata": {},
       "output_type": "display_data",
       "png": "[encoded data removed]",
       "text": [
        "<matplotlib.figure.Figure at 0x10c6f2290>"
       ]
      }
     ],
     "prompt_number": 214
    },
    {
     "cell_type": "code",
     "collapsed": false,
     "input": [
      "s1.describe()"
     ],
     "language": "python",
     "metadata": {
      "slideshow": {
       "slide_type": "slide"
      }
     },
     "outputs": [
      {
       "metadata": {},
       "output_type": "pyout",
       "prompt_number": 215,
       "text": [
        "count    100.000000\n",
        "mean       0.067669\n",
        "std        1.058815\n",
        "min       -2.159013\n",
        "25%       -0.653524\n",
        "50%        0.076615\n",
        "75%        0.805894\n",
        "max        2.348782\n",
        "dtype: float64"
       ]
      }
     ],
     "prompt_number": 215
    },
    {
     "cell_type": "heading",
     "level": 1,
     "metadata": {
      "slideshow": {
       "slide_type": "slide"
      }
     },
     "source": [
      "DataFrame class"
     ]
    },
    {
     "cell_type": "code",
     "collapsed": false,
     "input": [
      "from pandas import DataFrame"
     ],
     "language": "python",
     "metadata": {
      "slideshow": {
       "slide_type": "fragment"
      }
     },
     "outputs": [],
     "prompt_number": 216
    },
    {
     "cell_type": "code",
     "collapsed": false,
     "input": [
      "# from data and labels separated\n",
      "\n",
      "data = np.random.randn(100, 4)\n",
      "rows = ['X' + str(a) for a in range(100)]\n",
      "cols = ['Y' + str(x) for x in range(4)]\n",
      "\n",
      "df1 = DataFrame(data, index=rows, columns=cols)\n",
      "\n",
      "df1.head()\n"
     ],
     "language": "python",
     "metadata": {
      "slideshow": {
       "slide_type": "fragment"
      }
     },
     "outputs": [
      {
       "html": [
        "<div style=\"max-height:1000px;max-width:1500px;overflow:auto;\">\n",
        "<table border=\"1\" class=\"dataframe\">\n",
        "  <thead>\n",
        "    <tr style=\"text-align: right;\">\n",
        "      <th></th>\n",
        "      <th>Y0</th>\n",
        "      <th>Y2</th>\n",
        "    </tr>\n",
        "  </thead>\n",
        "  <tbody>\n",
        "    <tr>\n",
        "      <th>X0</th>\n",
        "      <td> 1.304585</td>\n",
        "      <td>-0.352360</td>\n",
        "    </tr>\n",
        "    <tr>\n",
        "      <th>X10</th>\n",
        "      <td> 0.800592</td>\n",
        "      <td>-0.187840</td>\n",
        "    </tr>\n",
        "    <tr>\n",
        "      <th>X20</th>\n",
        "      <td>-0.813498</td>\n",
        "      <td> 0.175444</td>\n",
        "    </tr>\n",
        "    <tr>\n",
        "      <th>X30</th>\n",
        "      <td> 0.378165</td>\n",
        "      <td>-0.094426</td>\n",
        "    </tr>\n",
        "    <tr>\n",
        "      <th>X40</th>\n",
        "      <td> 0.453449</td>\n",
        "      <td> 0.880471</td>\n",
        "    </tr>\n",
        "  </tbody>\n",
        "</table>\n",
        "</div>"
       ],
       "metadata": {},
       "output_type": "pyout",
       "prompt_number": 231,
       "text": [
        "           Y0        Y2\n",
        "X0   1.304585 -0.352360\n",
        "X10  0.800592 -0.187840\n",
        "X20 -0.813498  0.175444\n",
        "X30  0.378165 -0.094426\n",
        "X40  0.453449  0.880471"
       ]
      }
     ],
     "prompt_number": 231
    },
    {
     "cell_type": "code",
     "collapsed": false,
     "input": [
      "df1.tail()"
     ],
     "language": "python",
     "metadata": {
      "slideshow": {
       "slide_type": "slide"
      }
     },
     "outputs": [
      {
       "html": [
        "<div style=\"max-height:1000px;max-width:1500px;overflow:auto;\">\n",
        "<table border=\"1\" class=\"dataframe\">\n",
        "  <thead>\n",
        "    <tr style=\"text-align: right;\">\n",
        "      <th></th>\n",
        "      <th>Y0</th>\n",
        "      <th>Y1</th>\n",
        "      <th>Y2</th>\n",
        "      <th>Y3</th>\n",
        "    </tr>\n",
        "  </thead>\n",
        "  <tbody>\n",
        "    <tr>\n",
        "      <th>X95</th>\n",
        "      <td>-0.951112</td>\n",
        "      <td> 0.842942</td>\n",
        "      <td> 0.967823</td>\n",
        "      <td> 0.413582</td>\n",
        "    </tr>\n",
        "    <tr>\n",
        "      <th>X96</th>\n",
        "      <td> 0.503997</td>\n",
        "      <td>-0.194717</td>\n",
        "      <td>-0.626450</td>\n",
        "      <td>-1.031119</td>\n",
        "    </tr>\n",
        "    <tr>\n",
        "      <th>X97</th>\n",
        "      <td>-0.283774</td>\n",
        "      <td> 0.449783</td>\n",
        "      <td>-0.473553</td>\n",
        "      <td> 1.479904</td>\n",
        "    </tr>\n",
        "    <tr>\n",
        "      <th>X98</th>\n",
        "      <td> 0.949645</td>\n",
        "      <td>-0.079630</td>\n",
        "      <td> 1.375029</td>\n",
        "      <td> 0.269555</td>\n",
        "    </tr>\n",
        "    <tr>\n",
        "      <th>X99</th>\n",
        "      <td>-1.613993</td>\n",
        "      <td> 0.380002</td>\n",
        "      <td> 2.069640</td>\n",
        "      <td>-0.903847</td>\n",
        "    </tr>\n",
        "  </tbody>\n",
        "</table>\n",
        "</div>"
       ],
       "metadata": {},
       "output_type": "pyout",
       "prompt_number": 218,
       "text": [
        "           Y0        Y1        Y2        Y3\n",
        "X95 -0.951112  0.842942  0.967823  0.413582\n",
        "X96  0.503997 -0.194717 -0.626450 -1.031119\n",
        "X97 -0.283774  0.449783 -0.473553  1.479904\n",
        "X98  0.949645 -0.079630  1.375029  0.269555\n",
        "X99 -1.613993  0.380002  2.069640 -0.903847"
       ]
      }
     ],
     "prompt_number": 218
    },
    {
     "cell_type": "code",
     "collapsed": false,
     "input": [
      "# From a dictionary of dictionary\n",
      "\n",
      "data_dic = { 'F': {'Bob':12, 'Luc':34, 'Kak':32}, 'M':{'Bob':12, 'Luc':54, 'Kak':43}}\n",
      "\n",
      "df2 = DataFrame(data_dic)\n"
     ],
     "language": "python",
     "metadata": {
      "slideshow": {
       "slide_type": "slide"
      }
     },
     "outputs": [],
     "prompt_number": 227
    },
    {
     "cell_type": "code",
     "collapsed": false,
     "input": [
      "# From series\n",
      "\n",
      "df3 = DataFrame([s1, s2]).transpose()\n",
      "df3.head()"
     ],
     "language": "python",
     "metadata": {
      "slideshow": {
       "slide_type": "slide"
      }
     },
     "outputs": [
      {
       "html": [
        "<div style=\"max-height:1000px;max-width:1500px;overflow:auto;\">\n",
        "<table border=\"1\" class=\"dataframe\">\n",
        "  <thead>\n",
        "    <tr style=\"text-align: right;\">\n",
        "      <th></th>\n",
        "      <th>Variable 1</th>\n",
        "      <th>Variable 2</th>\n",
        "    </tr>\n",
        "  </thead>\n",
        "  <tbody>\n",
        "    <tr>\n",
        "      <th>x0</th>\n",
        "      <td> 0.548887</td>\n",
        "      <td> 0.527242</td>\n",
        "    </tr>\n",
        "    <tr>\n",
        "      <th>x1</th>\n",
        "      <td> 0.322762</td>\n",
        "      <td> 0.360430</td>\n",
        "    </tr>\n",
        "    <tr>\n",
        "      <th>x10</th>\n",
        "      <td> 1.517340</td>\n",
        "      <td> 0.742732</td>\n",
        "    </tr>\n",
        "    <tr>\n",
        "      <th>x11</th>\n",
        "      <td>-1.017832</td>\n",
        "      <td> 0.742263</td>\n",
        "    </tr>\n",
        "    <tr>\n",
        "      <th>x12</th>\n",
        "      <td>-1.161776</td>\n",
        "      <td> 0.460431</td>\n",
        "    </tr>\n",
        "  </tbody>\n",
        "</table>\n",
        "</div>"
       ],
       "metadata": {},
       "output_type": "pyout",
       "prompt_number": 235,
       "text": [
        "     Variable 1  Variable 2\n",
        "x0     0.548887    0.527242\n",
        "x1     0.322762    0.360430\n",
        "x10    1.517340    0.742732\n",
        "x11   -1.017832    0.742263\n",
        "x12   -1.161776    0.460431"
       ]
      }
     ],
     "prompt_number": 235
    },
    {
     "cell_type": "heading",
     "level": 3,
     "metadata": {
      "slideshow": {
       "slide_type": "slide"
      }
     },
     "source": [
      "Summarizing information"
     ]
    },
    {
     "cell_type": "code",
     "collapsed": false,
     "input": [
      "# plotting Dataframes\n",
      "\n",
      "df1.tail()"
     ],
     "language": "python",
     "metadata": {
      "slideshow": {
       "slide_type": "fragment"
      }
     },
     "outputs": [
      {
       "html": [
        "<div style=\"max-height:1000px;max-width:1500px;overflow:auto;\">\n",
        "<table border=\"1\" class=\"dataframe\">\n",
        "  <thead>\n",
        "    <tr style=\"text-align: right;\">\n",
        "      <th></th>\n",
        "      <th>Y0</th>\n",
        "      <th>Y1</th>\n",
        "      <th>Y2</th>\n",
        "      <th>Y3</th>\n",
        "    </tr>\n",
        "  </thead>\n",
        "  <tbody>\n",
        "    <tr>\n",
        "      <th>X95</th>\n",
        "      <td> 2.361024</td>\n",
        "      <td> 2.093699</td>\n",
        "      <td>-0.709045</td>\n",
        "      <td> 0.657823</td>\n",
        "    </tr>\n",
        "    <tr>\n",
        "      <th>X96</th>\n",
        "      <td> 0.271655</td>\n",
        "      <td> 0.027965</td>\n",
        "      <td> 0.342539</td>\n",
        "      <td> 0.725762</td>\n",
        "    </tr>\n",
        "    <tr>\n",
        "      <th>X97</th>\n",
        "      <td>-0.204099</td>\n",
        "      <td>-1.773286</td>\n",
        "      <td> 0.775181</td>\n",
        "      <td>-0.863701</td>\n",
        "    </tr>\n",
        "    <tr>\n",
        "      <th>X98</th>\n",
        "      <td> 1.768597</td>\n",
        "      <td> 0.828553</td>\n",
        "      <td> 0.748256</td>\n",
        "      <td>-2.702448</td>\n",
        "    </tr>\n",
        "    <tr>\n",
        "      <th>X99</th>\n",
        "      <td> 0.745264</td>\n",
        "      <td> 0.025125</td>\n",
        "      <td> 0.890597</td>\n",
        "      <td>-0.788018</td>\n",
        "    </tr>\n",
        "  </tbody>\n",
        "</table>\n",
        "</div>"
       ],
       "metadata": {},
       "output_type": "pyout",
       "prompt_number": 236,
       "text": [
        "           Y0        Y1        Y2        Y3\n",
        "X95  2.361024  2.093699 -0.709045  0.657823\n",
        "X96  0.271655  0.027965  0.342539  0.725762\n",
        "X97 -0.204099 -1.773286  0.775181 -0.863701\n",
        "X98  1.768597  0.828553  0.748256 -2.702448\n",
        "X99  0.745264  0.025125  0.890597 -0.788018"
       ]
      }
     ],
     "prompt_number": 236
    },
    {
     "cell_type": "code",
     "collapsed": false,
     "input": [
      "df1.describe()"
     ],
     "language": "python",
     "metadata": {
      "slideshow": {
       "slide_type": "fragment"
      }
     },
     "outputs": [
      {
       "html": [
        "<div style=\"max-height:1000px;max-width:1500px;overflow:auto;\">\n",
        "<table border=\"1\" class=\"dataframe\">\n",
        "  <thead>\n",
        "    <tr style=\"text-align: right;\">\n",
        "      <th></th>\n",
        "      <th>Y0</th>\n",
        "      <th>Y1</th>\n",
        "      <th>Y2</th>\n",
        "      <th>Y3</th>\n",
        "    </tr>\n",
        "  </thead>\n",
        "  <tbody>\n",
        "    <tr>\n",
        "      <th>count</th>\n",
        "      <td> 100.000000</td>\n",
        "      <td> 100.000000</td>\n",
        "      <td> 100.000000</td>\n",
        "      <td> 100.000000</td>\n",
        "    </tr>\n",
        "    <tr>\n",
        "      <th>mean</th>\n",
        "      <td>  -0.053581</td>\n",
        "      <td>   0.042075</td>\n",
        "      <td>   0.051626</td>\n",
        "      <td>   0.006376</td>\n",
        "    </tr>\n",
        "    <tr>\n",
        "      <th>std</th>\n",
        "      <td>   0.976961</td>\n",
        "      <td>   0.913743</td>\n",
        "      <td>   1.019332</td>\n",
        "      <td>   1.092171</td>\n",
        "    </tr>\n",
        "    <tr>\n",
        "      <th>min</th>\n",
        "      <td>  -2.237014</td>\n",
        "      <td>  -1.880784</td>\n",
        "      <td>  -2.329081</td>\n",
        "      <td>  -2.702448</td>\n",
        "    </tr>\n",
        "    <tr>\n",
        "      <th>25%</th>\n",
        "      <td>  -0.698381</td>\n",
        "      <td>  -0.484996</td>\n",
        "      <td>  -0.739372</td>\n",
        "      <td>  -0.827439</td>\n",
        "    </tr>\n",
        "    <tr>\n",
        "      <th>50%</th>\n",
        "      <td>   0.010346</td>\n",
        "      <td>   0.054242</td>\n",
        "      <td>   0.128864</td>\n",
        "      <td>   0.005164</td>\n",
        "    </tr>\n",
        "    <tr>\n",
        "      <th>75%</th>\n",
        "      <td>   0.581872</td>\n",
        "      <td>   0.560447</td>\n",
        "      <td>   0.796054</td>\n",
        "      <td>   0.720062</td>\n",
        "    </tr>\n",
        "    <tr>\n",
        "      <th>max</th>\n",
        "      <td>   2.361024</td>\n",
        "      <td>   2.251527</td>\n",
        "      <td>   3.064340</td>\n",
        "      <td>   2.417830</td>\n",
        "    </tr>\n",
        "  </tbody>\n",
        "</table>\n",
        "</div>"
       ],
       "metadata": {},
       "output_type": "pyout",
       "prompt_number": 237,
       "text": [
        "               Y0          Y1          Y2          Y3\n",
        "count  100.000000  100.000000  100.000000  100.000000\n",
        "mean    -0.053581    0.042075    0.051626    0.006376\n",
        "std      0.976961    0.913743    1.019332    1.092171\n",
        "min     -2.237014   -1.880784   -2.329081   -2.702448\n",
        "25%     -0.698381   -0.484996   -0.739372   -0.827439\n",
        "50%      0.010346    0.054242    0.128864    0.005164\n",
        "75%      0.581872    0.560447    0.796054    0.720062\n",
        "max      2.361024    2.251527    3.064340    2.417830"
       ]
      }
     ],
     "prompt_number": 237
    },
    {
     "cell_type": "heading",
     "level": 3,
     "metadata": {
      "slideshow": {
       "slide_type": "slide"
      }
     },
     "source": [
      "Visualizing information in DataFrames"
     ]
    },
    {
     "cell_type": "code",
     "collapsed": false,
     "input": [
      "to_plot = ['Y1', 'Y2']\n",
      "\n",
      "df1[to_plot].plot(figsize=(9, 7));"
     ],
     "language": "python",
     "metadata": {
      "slideshow": {
       "slide_type": "fragment"
      }
     },
     "outputs": [
      {
       "metadata": {},
       "output_type": "display_data",
       "png": "[encoded data removed]",
       "text": [
        "<matplotlib.figure.Figure at 0x10df33b50>"
       ]
      }
     ],
     "prompt_number": 244
    },
    {
     "cell_type": "code",
     "collapsed": false,
     "input": [
      "df1.hist(bins=20, figsize=(15,7));"
     ],
     "language": "python",
     "metadata": {
      "slideshow": {
       "slide_type": "slide"
      }
     },
     "outputs": [
      {
       "metadata": {},
       "output_type": "display_data",
       "png": "[encoded data removed]",
       "text": [
        "<matplotlib.figure.Figure at 0x10df5dfd0>"
       ]
      }
     ],
     "prompt_number": 245
    },
    {
     "cell_type": "code",
     "collapsed": false,
     "input": [
      "pd.scatter_matrix(df1, figsize=(15, 7));"
     ],
     "language": "python",
     "metadata": {
      "slideshow": {
       "slide_type": "slide"
      }
     },
     "outputs": [
      {
       "metadata": {},
       "output_type": "display_data",
       "png": "[encoded data removed]",
       "text": [
        "<matplotlib.figure.Figure at 0x10dfb7bd0>"
       ]
      }
     ],
     "prompt_number": 246
    },
    {
     "cell_type": "code",
     "collapsed": false,
     "input": [
      "  "
     ],
     "language": "python",
     "metadata": {},
     "outputs": []
    }
   ],
   "metadata": {}
  }
 ]
}