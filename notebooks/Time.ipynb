{
 "metadata": {
  "name": ""
 },
 "nbformat": 3,
 "nbformat_minor": 0,
 "worksheets": [
  {
   "cells": [
    {
     "cell_type": "markdown",
     "metadata": {},
     "source": [
      "We will discuss here temporal aspects of data anlysis. "
     ]
    }
   ],
   "metadata": {}
  }
 ]
}