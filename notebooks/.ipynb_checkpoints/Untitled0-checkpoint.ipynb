{
 "metadata": {
  "name": "",
  "signature": "sha256:3d22ec0e12983c9fdbe32b5d3a90330fc983623eaceabcee25e9573071b0cd2d"
 },
 "nbformat": 3,
 "nbformat_minor": 0,
 "worksheets": [
  {
   "cells": [
    {
     "cell_type": "code",
     "collapsed": false,
     "input": [
      "%%R -r 86 -w 800 -h 400\n",
      "\n",
      "score.max = 100\n",
      "gradeBook = data.frame(Major=M, Score=rep(0, student.number))\n",
      "\n",
      "sigma = 3\n",
      "major.number = length(levels(M))\n",
      "means = round((score.max/major.number -10)*1:major.number + rnorm(major.number, mean=0, sd=sigma))\n",
      "major.means = sample(means, major.number)\n",
      "\n",
      "for(i in 1:major.number){\n",
      "    cat(paste('Chosen mean for major', names(clusters)[i], 'is', major.means[i], '\\n'))\n",
      "    gradeBook[clusters[[i]], 'Score'] = simulate.grades(length(clusters[[i]]), score.mean=major.means[i], score.sd=sigma)\n",
      "}"
     ],
     "language": "python",
     "metadata": {},
     "outputs": [
      {
       "output_type": "stream",
       "stream": "stderr",
       "text": [
        "ERROR: Cell magic `%%R` not found.\n"
       ]
      }
     ],
     "prompt_number": 1
    },
    {
     "cell_type": "code",
     "collapsed": false,
     "input": [],
     "language": "python",
     "metadata": {},
     "outputs": []
    }
   ],
   "metadata": {}
  }
 ]
}